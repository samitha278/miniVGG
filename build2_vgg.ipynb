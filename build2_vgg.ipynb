{
  "nbformat": 4,
  "nbformat_minor": 0,
  "metadata": {
    "colab": {
      "provenance": [],
      "authorship_tag": "ABX9TyORl8Vr9zsIfhCHMwajq9HV",
      "include_colab_link": true
    },
    "kernelspec": {
      "name": "python3",
      "display_name": "Python 3"
    },
    "language_info": {
      "name": "python"
    }
  },
  "cells": [
    {
      "cell_type": "markdown",
      "metadata": {
        "id": "view-in-github",
        "colab_type": "text"
      },
      "source": [
        "<a href=\"https://colab.research.google.com/github/samitha278/miniVGG/blob/main/build2_vgg.ipynb\" target=\"_parent\"><img src=\"https://colab.research.google.com/assets/colab-badge.svg\" alt=\"Open In Colab\"/></a>"
      ]
    },
    {
      "cell_type": "code",
      "execution_count": 28,
      "metadata": {
        "id": "HStSfgrmkV64"
      },
      "outputs": [],
      "source": [
        "import torch\n",
        "import torch.nn as nn\n",
        "import torch.nn.functional as F\n",
        "\n",
        "from torchvision import datasets, transforms\n",
        "from torch.utils.data import DataLoader\n",
        "\n",
        "import time\n",
        "import matplotlib.pyplot as plt\n",
        "\n",
        "from dataclasses import dataclass\n",
        "\n",
        "device = 'cuda' if torch.cuda.is_available() else 'cpu'"
      ]
    },
    {
      "cell_type": "markdown",
      "source": [
        "## Get Data"
      ],
      "metadata": {
        "id": "Bg02xI2ItWEL"
      }
    },
    {
      "cell_type": "code",
      "source": [
        "batch_size = 16"
      ],
      "metadata": {
        "id": "LkvcrXqtt1-8"
      },
      "execution_count": 2,
      "outputs": []
    },
    {
      "cell_type": "code",
      "source": [
        "transform_train = transforms.Compose([transforms.ToTensor()])\n",
        "\n",
        "train_dataset = datasets.MNIST(root='data', train=True, download=True, transform=transform_train)\n",
        "val_dataset = datasets.MNIST(root='data', train=False, download=True, transform=transform_train)\n",
        "\n",
        "\n",
        "train_data = DataLoader(train_dataset, batch_size=batch_size, shuffle=True)\n",
        "val_data = DataLoader(val_dataset, batch_size=batch_size, shuffle=True)"
      ],
      "metadata": {
        "colab": {
          "base_uri": "https://localhost:8080/"
        },
        "id": "V-XyXuEutbgq",
        "outputId": "0d35d1d8-03e9-4a84-f7d9-789d7de3b4fd"
      },
      "execution_count": 3,
      "outputs": [
        {
          "output_type": "stream",
          "name": "stderr",
          "text": [
            "100%|██████████| 9.91M/9.91M [00:00<00:00, 62.2MB/s]\n",
            "100%|██████████| 28.9k/28.9k [00:00<00:00, 1.65MB/s]\n",
            "100%|██████████| 1.65M/1.65M [00:00<00:00, 14.3MB/s]\n",
            "100%|██████████| 4.54k/4.54k [00:00<00:00, 8.59MB/s]\n"
          ]
        }
      ]
    },
    {
      "cell_type": "code",
      "source": [
        "image ,label  = next(iter(train_data))\n",
        "image.shape"
      ],
      "metadata": {
        "colab": {
          "base_uri": "https://localhost:8080/"
        },
        "id": "Tx-JWDNNuRX-",
        "outputId": "65121360-2d74-4674-eb51-afbc7f79f0cc"
      },
      "execution_count": 4,
      "outputs": [
        {
          "output_type": "execute_result",
          "data": {
            "text/plain": [
              "torch.Size([16, 1, 28, 28])"
            ]
          },
          "metadata": {},
          "execution_count": 4
        }
      ]
    },
    {
      "cell_type": "code",
      "source": [
        "flat = nn.Flatten()\n",
        "\n",
        "flat(image).shape"
      ],
      "metadata": {
        "colab": {
          "base_uri": "https://localhost:8080/"
        },
        "id": "jZKR1Q1bHMHn",
        "outputId": "b06724bd-4059-4570-d8a4-e4f8a816127e"
      },
      "execution_count": 6,
      "outputs": [
        {
          "output_type": "execute_result",
          "data": {
            "text/plain": [
              "torch.Size([16, 784])"
            ]
          },
          "metadata": {},
          "execution_count": 6
        }
      ]
    },
    {
      "cell_type": "markdown",
      "source": [
        "## Model Implementation"
      ],
      "metadata": {
        "id": "i9dNc7fVk5B7"
      }
    },
    {
      "cell_type": "code",
      "source": [
        "@dataclass\n",
        "class Config():\n",
        "    in_ch : int = 1\n",
        "    n_embd : int = 36\n",
        "    n_class : int = 10\n",
        "\n",
        "\n",
        "\n",
        "\n",
        "\n",
        "\n",
        "\n",
        "class minVGG(nn.Module):\n",
        "\n",
        "    def __init__(self,config):\n",
        "        super().__init__()\n",
        "\n",
        "\n",
        "\n",
        "        self.conv_1 = nn.Conv2d(config.in_ch, 2*config.in_ch,5)\n",
        "        self.pooling_1 = nn.MaxPool2d(3)\n",
        "\n",
        "        self.conv_2 = nn.Conv2d(2* config.in_ch, 4*config.in_ch,3)\n",
        "        self.pooling_2 = nn.MaxPool2d(2)\n",
        "\n",
        "        self.relu = nn.ReLU()\n",
        "\n",
        "        self.flatten = nn.Flatten()\n",
        "\n",
        "        self.mlp = MLP(config)\n",
        "\n",
        "\n",
        "    def forward(self,x,targets = None):\n",
        "\n",
        "        B,C,H,W = x.shape\n",
        "\n",
        "        #1\n",
        "        x = self.conv_1(x)\n",
        "        x = self.relu(x)\n",
        "        x = self.pooling_1(x)\n",
        "\n",
        "        #2\n",
        "        x = self.conv_2(x)\n",
        "        x = self.relu(x)\n",
        "        x = self.pooling_2(x)\n",
        "\n",
        "        x = self.flatten(x)\n",
        "\n",
        "        logits = self.mlp(x)\n",
        "\n",
        "        loss = None\n",
        "        if targets is not None:\n",
        "            return logits , F.cross_entropy(logits,targets)\n",
        "\n",
        "        return logits\n",
        "\n",
        "\n",
        "\n",
        "\n",
        "\n",
        "\n",
        "\n",
        "class MLP(nn.Module):\n",
        "\n",
        "\n",
        "    def __init__(self,config):\n",
        "        super().__init__()\n",
        "\n",
        "        self.layer = nn.Linear(config.n_embd,4*config.n_embd)\n",
        "        self.relu = nn.ReLU()\n",
        "        self.proj = nn.Linear(4*config.n_embd,config.n_class)\n",
        "\n",
        "\n",
        "    def forward(self,x):\n",
        "\n",
        "        x = self.layer(x)\n",
        "        x = self.relu(x)\n",
        "        x = self.proj(x)\n",
        "\n",
        "        return x\n",
        "\n",
        "\n",
        "\n",
        "\n",
        ""
      ],
      "metadata": {
        "id": "YNolsVfvkbDO"
      },
      "execution_count": 21,
      "outputs": []
    },
    {
      "cell_type": "code",
      "source": [
        "config = Config()\n",
        "cnn = minVGG(config)\n",
        "cnn(image).shape"
      ],
      "metadata": {
        "colab": {
          "base_uri": "https://localhost:8080/"
        },
        "id": "dV8CoUnFJfmS",
        "outputId": "03893478-c513-439b-e7a1-dbcf2b139ffe"
      },
      "execution_count": 23,
      "outputs": [
        {
          "output_type": "execute_result",
          "data": {
            "text/plain": [
              "torch.Size([16, 10])"
            ]
          },
          "metadata": {},
          "execution_count": 23
        }
      ]
    },
    {
      "cell_type": "markdown",
      "source": [
        "## Train"
      ],
      "metadata": {
        "id": "ZiD13n_kMSLr"
      }
    },
    {
      "cell_type": "code",
      "source": [
        "max_iter = 1000\n",
        "lr = 3e-4\n",
        "\n",
        "\n",
        "cnn = minVGG(Config())\n",
        "cnn = cnn.to(device)\n",
        "cnn = torch.compile(cnn)\n",
        "\n",
        "\n",
        "\n",
        "losses = torch.zeros((max_iter,))\n",
        "\n",
        "use_fused = torch.cuda.is_available()\n",
        "optimizer = torch.optim.AdamW(cnn.parameters(),lr = lr ,fused = use_fused)\n",
        "\n",
        "train_iter = iter(train_data)\n",
        "\n",
        "for i in range(max_iter):\n",
        "\n",
        "    t0 = time.time()\n",
        "\n",
        "    xb , yb = next(train_iter)\n",
        "    xb,yb = xb.to(device) , yb.to(device)\n",
        "\n",
        "    logits , loss = cnn(xb,yb)\n",
        "\n",
        "    optimizer.zero_grad()\n",
        "    loss.backward()\n",
        "    optimizer.step()\n",
        "\n",
        "    torch.cuda.synchronize() if torch.cuda.is_available() else None\n",
        "\n",
        "    t1 = time.time()\n",
        "    dt = (t1-t0) * 1000 # ms\n",
        "\n",
        "    losses[i] = loss.item()\n",
        "\n",
        "    if i%100 ==0 : print(f'{i}/{max_iter}  {loss.item()}  {dt} ms')\n",
        "\n"
      ],
      "metadata": {
        "colab": {
          "base_uri": "https://localhost:8080/"
        },
        "id": "DvPj91N_MRTg",
        "outputId": "58394e9b-ff4a-4d8d-81de-c184610e6dfe"
      },
      "execution_count": 30,
      "outputs": [
        {
          "output_type": "stream",
          "name": "stdout",
          "text": [
            "0/1000  2.310445547103882  10.44607162475586 ms\n",
            "100/1000  2.21236515045166  6.488561630249023 ms\n",
            "200/1000  1.666076898574829  6.346940994262695 ms\n",
            "300/1000  1.0901288986206055  6.270408630371094 ms\n",
            "400/1000  0.8322466611862183  7.765293121337891 ms\n",
            "500/1000  0.7781930565834045  8.962154388427734 ms\n",
            "600/1000  0.7698603868484497  8.695602416992188 ms\n",
            "700/1000  0.5577788352966309  11.706829071044922 ms\n",
            "800/1000  0.33924227952957153  6.481409072875977 ms\n",
            "900/1000  0.7270603775978088  6.339788436889648 ms\n"
          ]
        }
      ]
    },
    {
      "cell_type": "code",
      "source": [
        "plt.figure(figsize=(6,4))\n",
        "plt.plot(losses)\n",
        "plt.show()"
      ],
      "metadata": {
        "colab": {
          "base_uri": "https://localhost:8080/",
          "height": 368
        },
        "id": "M4zGFk6NKe_Y",
        "outputId": "c73a65aa-f8bb-457a-d52a-f3651fd5cfa5"
      },
      "execution_count": 31,
      "outputs": [
        {
          "output_type": "display_data",
          "data": {
            "text/plain": [
              "<Figure size 600x400 with 1 Axes>"
            ],
            "image/png": "[encoded data removed]"
          },
          "metadata": {}
        }
      ]
    },
    {
      "cell_type": "markdown",
      "source": [
        "## Inference / Accuracy"
      ],
      "metadata": {
        "id": "4G0O8AoRQ6fQ"
      }
    },
    {
      "cell_type": "code",
      "source": [
        "xb , yb = next(iter(val_data))\n",
        "\n",
        "logits = cnn(xb)\n",
        "\n",
        "probs = F.softmax(logits,dim=-1)\n",
        "\n",
        "predictions = torch.argmax(probs,dim=-1)\n",
        "\n",
        "acc = (predictions == yb).float().mean()\n",
        "\n",
        "print(f\"Batch accuracy: {acc.item():.4f}\")"
      ],
      "metadata": {
        "colab": {
          "base_uri": "https://localhost:8080/"
        },
        "id": "8H-dQDSDQZtU",
        "outputId": "10a08656-f605-46f5-bee5-dd3c7853a3df"
      },
      "execution_count": 36,
      "outputs": [
        {
          "output_type": "stream",
          "name": "stdout",
          "text": [
            "Batch accuracy: 0.8125\n"
          ]
        }
      ]
    },
    {
      "cell_type": "code",
      "source": [],
      "metadata": {
        "id": "MQuSahl4SFVI"
      },
      "execution_count": 35,
      "outputs": []
    }
  ]
}