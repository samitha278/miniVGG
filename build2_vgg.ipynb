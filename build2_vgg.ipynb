{
  "nbformat": 4,
  "nbformat_minor": 0,
  "metadata": {
    "colab": {
      "provenance": [],
      "authorship_tag": "ABX9TyOFSIbKgNBKUC8Cov+nepR4",
      "include_colab_link": true
    },
    "kernelspec": {
      "name": "python3",
      "display_name": "Python 3"
    },
    "language_info": {
      "name": "python"
    }
  },
  "cells": [
    {
      "cell_type": "markdown",
      "metadata": {
        "id": "view-in-github",
        "colab_type": "text"
      },
      "source": [
        "<a href=\"https://colab.research.google.com/github/samitha278/miniVGG/blob/main/build2_vgg.ipynb\" target=\"_parent\"><img src=\"https://colab.research.google.com/assets/colab-badge.svg\" alt=\"Open In Colab\"/></a>"
      ]
    },
    {
      "cell_type": "code",
      "execution_count": 40,
      "metadata": {
        "id": "HStSfgrmkV64"
      },
      "outputs": [],
      "source": [
        "import torch\n",
        "import torch.nn as nn\n",
        "import torch.nn.functional as F\n",
        "\n",
        "from torchvision import datasets, transforms\n",
        "from torch.utils.data import DataLoader\n",
        "\n",
        "import time\n",
        "import matplotlib.pyplot as plt\n",
        "\n",
        "from dataclasses import dataclass\n",
        "\n",
        "device = 'cuda' if torch.cuda.is_available() else 'cpu'"
      ]
    },
    {
      "cell_type": "markdown",
      "source": [
        "## Get Data MNIST"
      ],
      "metadata": {
        "id": "Bg02xI2ItWEL"
      }
    },
    {
      "cell_type": "code",
      "source": [
        "batch_size = 16"
      ],
      "metadata": {
        "id": "LkvcrXqtt1-8"
      },
      "execution_count": 2,
      "outputs": []
    },
    {
      "cell_type": "code",
      "source": [
        "transform_train = transforms.Compose([transforms.ToTensor()])\n",
        "\n",
        "train_dataset = datasets.MNIST(root='data', train=True, download=True, transform=transform_train)\n",
        "val_dataset = datasets.MNIST(root='data', train=False, download=True, transform=transform_train)\n",
        "\n",
        "\n",
        "train_data = DataLoader(train_dataset, batch_size=batch_size, shuffle=True)\n",
        "val_data = DataLoader(val_dataset, batch_size=batch_size, shuffle=True)"
      ],
      "metadata": {
        "id": "V-XyXuEutbgq"
      },
      "execution_count": 47,
      "outputs": []
    },
    {
      "cell_type": "code",
      "source": [
        "image ,label  = next(iter(train_data))\n",
        "image.shape"
      ],
      "metadata": {
        "colab": {
          "base_uri": "https://localhost:8080/"
        },
        "id": "Tx-JWDNNuRX-",
        "outputId": "65121360-2d74-4674-eb51-afbc7f79f0cc"
      },
      "execution_count": 4,
      "outputs": [
        {
          "output_type": "execute_result",
          "data": {
            "text/plain": [
              "torch.Size([16, 1, 28, 28])"
            ]
          },
          "metadata": {},
          "execution_count": 4
        }
      ]
    },
    {
      "cell_type": "code",
      "source": [
        "flat = nn.Flatten()\n",
        "\n",
        "flat(image).shape"
      ],
      "metadata": {
        "colab": {
          "base_uri": "https://localhost:8080/"
        },
        "id": "jZKR1Q1bHMHn",
        "outputId": "b06724bd-4059-4570-d8a4-e4f8a816127e"
      },
      "execution_count": 6,
      "outputs": [
        {
          "output_type": "execute_result",
          "data": {
            "text/plain": [
              "torch.Size([16, 784])"
            ]
          },
          "metadata": {},
          "execution_count": 6
        }
      ]
    },
    {
      "cell_type": "markdown",
      "source": [
        "## Model Implementation"
      ],
      "metadata": {
        "id": "i9dNc7fVk5B7"
      }
    },
    {
      "cell_type": "code",
      "source": [
        "@dataclass\n",
        "class Config():\n",
        "    in_ch : int = 1\n",
        "    n_embd : int = 36\n",
        "    n_class : int = 10\n",
        "\n",
        "\n",
        "\n",
        "\n",
        "\n",
        "\n",
        "\n",
        "class minVGG(nn.Module):\n",
        "\n",
        "    def __init__(self,config):\n",
        "        super().__init__()\n",
        "\n",
        "\n",
        "\n",
        "        self.conv_1 = nn.Conv2d(config.in_ch, 2*config.in_ch,5)\n",
        "        self.pooling_1 = nn.MaxPool2d(3)\n",
        "\n",
        "        self.conv_2 = nn.Conv2d(2* config.in_ch, 4*config.in_ch,3)\n",
        "        self.pooling_2 = nn.MaxPool2d(2)\n",
        "\n",
        "        self.relu = nn.ReLU()\n",
        "\n",
        "        self.flatten = nn.Flatten()\n",
        "\n",
        "        self.mlp = MLP(config)\n",
        "\n",
        "\n",
        "    def forward(self,x,targets = None):\n",
        "\n",
        "        B,C,H,W = x.shape\n",
        "\n",
        "        #1\n",
        "        x = self.conv_1(x)\n",
        "        x = self.relu(x)\n",
        "        x = self.pooling_1(x)\n",
        "\n",
        "        #2\n",
        "        x = self.conv_2(x)\n",
        "        x = self.relu(x)\n",
        "        x = self.pooling_2(x)\n",
        "\n",
        "        x = self.flatten(x)\n",
        "\n",
        "        logits = self.mlp(x)\n",
        "\n",
        "        loss = None\n",
        "        if targets is not None:\n",
        "            return logits , F.cross_entropy(logits,targets)\n",
        "\n",
        "        return logits\n",
        "\n",
        "\n",
        "\n",
        "\n",
        "\n",
        "\n",
        "\n",
        "class MLP(nn.Module):\n",
        "\n",
        "\n",
        "    def __init__(self,config):\n",
        "        super().__init__()\n",
        "\n",
        "        self.layer = nn.Linear(config.n_embd,4*config.n_embd)\n",
        "        self.relu = nn.ReLU()\n",
        "        self.proj = nn.Linear(4*config.n_embd,config.n_class)\n",
        "\n",
        "\n",
        "    def forward(self,x):\n",
        "\n",
        "        x = self.layer(x)\n",
        "        x = self.relu(x)\n",
        "        x = self.proj(x)\n",
        "\n",
        "        return x\n",
        "\n",
        "\n",
        "\n",
        "\n",
        ""
      ],
      "metadata": {
        "id": "YNolsVfvkbDO"
      },
      "execution_count": 21,
      "outputs": []
    },
    {
      "cell_type": "code",
      "source": [
        "config = Config()\n",
        "cnn = minVGG(config)\n",
        "cnn(image).shape"
      ],
      "metadata": {
        "colab": {
          "base_uri": "https://localhost:8080/"
        },
        "id": "dV8CoUnFJfmS",
        "outputId": "03893478-c513-439b-e7a1-dbcf2b139ffe"
      },
      "execution_count": 23,
      "outputs": [
        {
          "output_type": "execute_result",
          "data": {
            "text/plain": [
              "torch.Size([16, 10])"
            ]
          },
          "metadata": {},
          "execution_count": 23
        }
      ]
    },
    {
      "cell_type": "markdown",
      "source": [
        "## Train"
      ],
      "metadata": {
        "id": "ZiD13n_kMSLr"
      }
    },
    {
      "cell_type": "code",
      "source": [
        "torch.manual_seed(278)\n",
        "if torch.cuda.is_available():\n",
        "    torch.cuda.manual_seed(278)\n",
        "\n",
        "\n",
        "\n",
        "max_iter = 1000\n",
        "lr = 3e-4\n",
        "\n",
        "\n",
        "\n",
        "cnn = minVGG(Config())\n",
        "cnn = cnn.to(device)\n",
        "cnn = torch.compile(cnn)\n",
        "\n",
        "\n",
        "\n",
        "losses = torch.zeros((max_iter,))\n",
        "\n",
        "use_fused = torch.cuda.is_available()\n",
        "optimizer = torch.optim.AdamW(cnn.parameters(),lr = lr ,fused = use_fused)\n",
        "\n",
        "train_iter = iter(train_data)\n",
        "\n",
        "for i in range(max_iter):\n",
        "\n",
        "    t0 = time.time()\n",
        "\n",
        "    xb , yb = next(train_iter)\n",
        "    xb,yb = xb.to(device) , yb.to(device)\n",
        "\n",
        "    logits , loss = cnn(xb,yb)\n",
        "\n",
        "    optimizer.zero_grad()\n",
        "    loss.backward()\n",
        "    optimizer.step()\n",
        "\n",
        "    torch.cuda.synchronize() if torch.cuda.is_available() else None\n",
        "\n",
        "    t1 = time.time()\n",
        "    dt = (t1-t0) * 1000 # ms\n",
        "\n",
        "    losses[i] = loss.item()\n",
        "\n",
        "    if i%100 ==0 : print(f'{i}/{max_iter}  {loss.item()}  {dt} ms')\n",
        "\n"
      ],
      "metadata": {
        "colab": {
          "base_uri": "https://localhost:8080/"
        },
        "id": "DvPj91N_MRTg",
        "outputId": "58394e9b-ff4a-4d8d-81de-c184610e6dfe"
      },
      "execution_count": 30,
      "outputs": [
        {
          "output_type": "stream",
          "name": "stdout",
          "text": [
            "0/1000  2.310445547103882  10.44607162475586 ms\n",
            "100/1000  2.21236515045166  6.488561630249023 ms\n",
            "200/1000  1.666076898574829  6.346940994262695 ms\n",
            "300/1000  1.0901288986206055  6.270408630371094 ms\n",
            "400/1000  0.8322466611862183  7.765293121337891 ms\n",
            "500/1000  0.7781930565834045  8.962154388427734 ms\n",
            "600/1000  0.7698603868484497  8.695602416992188 ms\n",
            "700/1000  0.5577788352966309  11.706829071044922 ms\n",
            "800/1000  0.33924227952957153  6.481409072875977 ms\n",
            "900/1000  0.7270603775978088  6.339788436889648 ms\n"
          ]
        }
      ]
    },
    {
      "cell_type": "code",
      "source": [
        "plt.figure(figsize=(6,4))\n",
        "plt.plot(losses)\n",
        "plt.show()"
      ],
      "metadata": {
        "colab": {
          "base_uri": "https://localhost:8080/",
          "height": 368
        },
        "id": "M4zGFk6NKe_Y",
        "outputId": "c73a65aa-f8bb-457a-d52a-f3651fd5cfa5"
      },
      "execution_count": 31,
      "outputs": [
        {
          "output_type": "display_data",
          "data": {
            "text/plain": [
              "<Figure size 600x400 with 1 Axes>"
            ],
            "image/png": "[encoded data removed]"
          },
          "metadata": {}
        }
      ]
    },
    {
      "cell_type": "markdown",
      "source": [
        "## Inference / Accuracy"
      ],
      "metadata": {
        "id": "4G0O8AoRQ6fQ"
      }
    },
    {
      "cell_type": "code",
      "source": [
        "torch.manual_seed(278)\n",
        "if torch.cuda.is_available():\n",
        "    torch.cuda.manual_seed(278)\n",
        "\n",
        "\n",
        "\n",
        "xb , yb = next(iter(val_data))\n",
        "\n",
        "logits = cnn(xb)\n",
        "\n",
        "probs = F.softmax(logits,dim=-1)\n",
        "\n",
        "predictions = torch.argmax(probs,dim=-1)\n",
        "\n",
        "acc = (predictions == yb).float().mean()\n",
        "\n",
        "print(f\"Batch accuracy: {acc.item():.4f}\")"
      ],
      "metadata": {
        "colab": {
          "base_uri": "https://localhost:8080/"
        },
        "id": "8H-dQDSDQZtU",
        "outputId": "5967b3f0-806f-4050-ec68-414c7f2b67f4"
      },
      "execution_count": 37,
      "outputs": [
        {
          "output_type": "stream",
          "name": "stdout",
          "text": [
            "Batch accuracy: 0.6875\n"
          ]
        }
      ]
    },
    {
      "cell_type": "markdown",
      "source": [
        "### Accuracy for full val_data"
      ],
      "metadata": {
        "id": "VyULeyV5S7JQ"
      }
    },
    {
      "cell_type": "code",
      "source": [
        "torch.manual_seed(278)\n",
        "if torch.cuda.is_available():\n",
        "    torch.cuda.manual_seed(278)\n",
        "\n",
        "correct, total = 0, 0\n",
        "for xb, yb in val_data:\n",
        "    logits = cnn(xb)\n",
        "    preds = torch.argmax(logits, dim=-1)\n",
        "    correct += (preds == yb).sum().item()\n",
        "    total += yb.size(0)\n",
        "\n",
        "val_acc = correct / total\n",
        "print(f\"Validation accuracy: {val_acc:.4f}\")\n"
      ],
      "metadata": {
        "colab": {
          "base_uri": "https://localhost:8080/"
        },
        "id": "MQuSahl4SFVI",
        "outputId": "05f01653-0cab-4814-d877-4ac8655dfd11"
      },
      "execution_count": 38,
      "outputs": [
        {
          "output_type": "stream",
          "name": "stdout",
          "text": [
            "Validation accuracy: 0.8368\n"
          ]
        }
      ]
    },
    {
      "cell_type": "markdown",
      "source": [
        "## Batch Norm and Layer Norm to Model"
      ],
      "metadata": {
        "id": "cKi0HrSRxvwy"
      }
    },
    {
      "cell_type": "code",
      "source": [
        "@dataclass\n",
        "class Config():\n",
        "    in_ch : int = 1\n",
        "    n_embd : int = 36\n",
        "    n_class : int = 10\n",
        "\n",
        "\n",
        "class minVGG(nn.Module):\n",
        "\n",
        "    def __init__(self,config):\n",
        "        super().__init__()\n",
        "\n",
        "\n",
        "\n",
        "        self.conv_1 = nn.Conv2d(config.in_ch, 2*config.in_ch,5)\n",
        "        self.bn1 = nn.BatchNorm2d(2*config.in_ch)     # Batch Norm 1\n",
        "        self.pooling_1 = nn.MaxPool2d(3)\n",
        "\n",
        "        self.conv_2 = nn.Conv2d(2* config.in_ch, 4*config.in_ch,3)\n",
        "        self.bn2 = nn.BatchNorm2d(4*config.in_ch)     # Batch Norm 2\n",
        "        self.pooling_2 = nn.MaxPool2d(2)\n",
        "\n",
        "        self.relu = nn.ReLU()\n",
        "\n",
        "        self.flatten = nn.Flatten()\n",
        "\n",
        "        self.mlp = MLP(config)\n",
        "\n",
        "\n",
        "    def forward(self,x,targets = None):\n",
        "\n",
        "        B,C,H,W = x.shape\n",
        "\n",
        "        #1\n",
        "        x = self.conv_1(x)\n",
        "        x = self.bn1(x)\n",
        "        x = self.relu(x)\n",
        "        x = self.pooling_1(x)\n",
        "\n",
        "        #2\n",
        "        x = self.conv_2(x)\n",
        "        x = self.bn2(x)\n",
        "        x = self.relu(x)\n",
        "        x = self.pooling_2(x)\n",
        "\n",
        "        x = self.flatten(x)\n",
        "\n",
        "        logits = self.mlp(x)\n",
        "\n",
        "        loss = None\n",
        "        if targets is not None:\n",
        "            return logits , F.cross_entropy(logits,targets)\n",
        "\n",
        "        return logits\n",
        "\n",
        "\n",
        "class MLP(nn.Module):\n",
        "\n",
        "\n",
        "    def __init__(self,config):\n",
        "        super().__init__()\n",
        "\n",
        "        # pre layer norm\n",
        "        self.bn = nn.LayerNorm(config.n_embd)\n",
        "        self.layer = nn.Linear(config.n_embd,4*config.n_embd)\n",
        "        self.relu = nn.ReLU()\n",
        "        self.proj = nn.Linear(4*config.n_embd,config.n_class)\n",
        "\n",
        "\n",
        "    def forward(self,x):\n",
        "\n",
        "        x = self.layer(x)\n",
        "        x = self.relu(x)\n",
        "        x = self.proj(x)\n",
        "\n",
        "        return x\n",
        ""
      ],
      "metadata": {
        "id": "pyS6V4-vxuVS"
      },
      "execution_count": 44,
      "outputs": []
    },
    {
      "cell_type": "code",
      "source": [
        "batch_size = 16\n",
        "\n",
        "train_data = DataLoader(train_dataset, batch_size=batch_size, shuffle=True)\n",
        "val_data = DataLoader(val_dataset, batch_size=batch_size, shuffle=True)"
      ],
      "metadata": {
        "id": "uwKkfGP07GTC"
      },
      "execution_count": 48,
      "outputs": []
    },
    {
      "cell_type": "markdown",
      "source": [
        "# Train"
      ],
      "metadata": {
        "id": "nonL3pKK6RUN"
      }
    },
    {
      "cell_type": "code",
      "source": [
        "torch.manual_seed(278)\n",
        "if torch.cuda.is_available():\n",
        "    torch.cuda.manual_seed(278)\n",
        "\n",
        "\n",
        "\n",
        "max_iter = 1000\n",
        "lr = 3e-4\n",
        "\n",
        "\n",
        "\n",
        "cnn = minVGG(Config())\n",
        "cnn = cnn.to(device)\n",
        "cnn = torch.compile(cnn)\n",
        "\n",
        "\n",
        "\n",
        "losses = torch.zeros((max_iter,))\n",
        "\n",
        "use_fused = torch.cuda.is_available()\n",
        "optimizer = torch.optim.AdamW(cnn.parameters(),lr = lr ,fused = use_fused)\n",
        "\n",
        "train_iter = iter(train_data)\n",
        "\n",
        "for i in range(max_iter):\n",
        "\n",
        "    t0 = time.time()\n",
        "\n",
        "    xb , yb = next(train_iter)\n",
        "    xb,yb = xb.to(device) , yb.to(device)\n",
        "\n",
        "    logits , loss = cnn(xb,yb)\n",
        "\n",
        "    optimizer.zero_grad()\n",
        "    loss.backward()\n",
        "    optimizer.step()\n",
        "\n",
        "    torch.cuda.synchronize() if torch.cuda.is_available() else None\n",
        "\n",
        "    t1 = time.time()\n",
        "    dt = (t1-t0) * 1000 # ms\n",
        "\n",
        "    losses[i] = loss.item()\n",
        "\n",
        "    if i%100 ==0 : print(f'{i}/{max_iter}  {loss.item():.4f}  {dt:.4f} ms')\n",
        "\n"
      ],
      "metadata": {
        "colab": {
          "base_uri": "https://localhost:8080/"
        },
        "id": "7Fn-3bHb6A6u",
        "outputId": "a640264b-f128-4d2f-c7cf-2cf5598dc044"
      },
      "execution_count": 49,
      "outputs": [
        {
          "output_type": "stream",
          "name": "stdout",
          "text": [
            "0/1000  2.2896  46751.3280 ms\n",
            "100/1000  1.8546  12.3034 ms\n",
            "200/1000  1.4791  7.5624 ms\n",
            "300/1000  1.0668  8.0299 ms\n",
            "400/1000  1.0519  7.8294 ms\n",
            "500/1000  0.4007  7.6325 ms\n",
            "600/1000  0.5868  7.9434 ms\n",
            "700/1000  0.3758  9.1152 ms\n",
            "800/1000  0.3501  7.6864 ms\n",
            "900/1000  0.5312  7.8576 ms\n"
          ]
        }
      ]
    },
    {
      "cell_type": "code",
      "source": [
        "plt.figure(figsize=(6,4))\n",
        "plt.plot(losses)\n",
        "plt.show()"
      ],
      "metadata": {
        "colab": {
          "base_uri": "https://localhost:8080/",
          "height": 373
        },
        "id": "ETEpftiG7LDP",
        "outputId": "ff13ab8d-f599-4008-8d34-4d2b24e86314"
      },
      "execution_count": 50,
      "outputs": [
        {
          "output_type": "display_data",
          "data": {
            "text/plain": [
              "<Figure size 600x400 with 1 Axes>"
            ],
            "image/png": "[encoded data removed]"
          },
          "metadata": {}
        }
      ]
    },
    {
      "cell_type": "markdown",
      "source": [
        "### Accuracy for full val_data"
      ],
      "metadata": {
        "id": "g5CjymtO9cMs"
      }
    },
    {
      "cell_type": "code",
      "source": [
        "torch.manual_seed(278)\n",
        "if torch.cuda.is_available():\n",
        "    torch.cuda.manual_seed(278)\n",
        "\n",
        "correct, total = 0, 0\n",
        "for xb, yb in val_data:\n",
        "    logits = cnn(xb)\n",
        "    preds = torch.argmax(logits, dim=-1)\n",
        "    correct += (preds == yb).sum().item()\n",
        "    total += yb.size(0)\n",
        "\n",
        "val_acc = correct / total\n",
        "print(f\"Validation accuracy: {val_acc:.4f}\")\n"
      ],
      "metadata": {
        "colab": {
          "base_uri": "https://localhost:8080/"
        },
        "id": "D7ZEag9Q9QkB",
        "outputId": "6ab80231-dba9-4f24-94cb-6cd52b2601b5"
      },
      "execution_count": 51,
      "outputs": [
        {
          "output_type": "stream",
          "name": "stdout",
          "text": [
            "Validation accuracy: 0.9031\n"
          ]
        }
      ]
    },
    {
      "cell_type": "code",
      "source": [],
      "metadata": {
        "id": "Cq27ZydC9di9"
      },
      "execution_count": null,
      "outputs": []
    }
  ]
}